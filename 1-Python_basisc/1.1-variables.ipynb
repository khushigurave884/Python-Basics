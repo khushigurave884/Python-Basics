{
 "cells": [
  {
   "cell_type": "code",
   "execution_count": null,
   "id": "8362e5e0",
   "metadata": {},
   "outputs": [],
   "source": []
  },
  {
   "cell_type": "markdown",
   "id": "528f6643",
   "metadata": {},
   "source": [
    "Variables\n"
   ]
  },
  {
   "cell_type": "markdown",
   "id": "a59eb306",
   "metadata": {},
   "source": [
    "#inroduction to variables\n",
    "#decalring and assigning variables\n",
    "#naming conventions\n",
    "#understanding variables types\n",
    "#type checking and conversion\n",
    "#dynamic typing \n",
    "#pratical examples and common error "
   ]
  },
  {
   "cell_type": "markdown",
   "id": "1e4cab29",
   "metadata": {},
   "source": [
    "#variables are the fundamnetal elements in programming used to store the data that can be reffered and manipulated in a program \n",
    "\n",
    "a=100"
   ]
  },
  {
   "cell_type": "code",
   "execution_count": 2,
   "id": "2a25a45a",
   "metadata": {},
   "outputs": [
    {
     "name": "stdout",
     "output_type": "stream",
     "text": [
      "age: 21\n",
      "height 5.5\n",
      "name khushi\n"
     ]
    }
   ],
   "source": [
    "##decalring and assigning variables \n",
    "age =21\n",
    "height=5.5\n",
    "name=\"khushi\"\n",
    "is_student=True\n",
    "\n",
    "##printing the variables \n",
    "print(\"age:\",age)\n",
    "print(\"height\",height)\n",
    "print(\"name\",name)\n"
   ]
  },
  {
   "cell_type": "code",
   "execution_count": 3,
   "id": "69dc402f",
   "metadata": {},
   "outputs": [],
   "source": [
    "##Naming Convention \n",
    "##variables names should be descriptive\n",
    "#they must start with a letter or an '_' and contains letter ,numbers and underscores\n",
    "##variables names are case sensitive \n",
    "\n",
    "# valid variables names \n",
    "first_name=\"khushi\"\n",
    "last_name=\"gurave\"\n",
    "\n",
    "#invalid variables names \n",
    "#2age=21\n",
    "#first-name=\"khushi\"\n",
    "#@name=\"khushi\""
   ]
  },
  {
   "cell_type": "code",
   "execution_count": 4,
   "id": "05fe074f",
   "metadata": {},
   "outputs": [],
   "source": [
    "##understanding variables types \n",
    "##ython is dynamically types,type of a varoable is determined at runtime\n",
    "age=21 #int\n",
    "height=5.5 #float\n",
    "name=\"khushi\" #str\n",
    "is_student=True #bool"
   ]
  },
  {
   "cell_type": "code",
   "execution_count": 5,
   "id": "d41daa91",
   "metadata": {},
   "outputs": [
    {
     "data": {
      "text/plain": [
       "float"
      ]
     },
     "execution_count": 5,
     "metadata": {},
     "output_type": "execute_result"
    }
   ],
   "source": [
    "#3type checking and conversion \n",
    "type(height)"
   ]
  },
  {
   "cell_type": "code",
   "execution_count": null,
   "id": "06040c4a",
   "metadata": {},
   "outputs": [
    {
     "name": "stdout",
     "output_type": "stream",
     "text": [
      "<class 'int'>\n",
      "21\n",
      "<class 'str'>\n"
     ]
    }
   ],
   "source": [
    "age=21\n",
    "print(type(age))\n",
    "\n",
    "#type conversion\n",
    "age_str=str(age)\n",
    "print(age_str)\n",
    "print(type(age_str))\n"
   ]
  },
  {
   "cell_type": "code",
   "execution_count": 9,
   "id": "16809aa6",
   "metadata": {},
   "outputs": [
    {
     "data": {
      "text/plain": [
       "25"
      ]
     },
     "execution_count": 9,
     "metadata": {},
     "output_type": "execute_result"
    }
   ],
   "source": [
    "age=\"25\"\n",
    "int(age)"
   ]
  },
  {
   "cell_type": "code",
   "execution_count": null,
   "id": "41c4183c",
   "metadata": {},
   "outputs": [],
   "source": [
    "#name=\"khushi\"\n",
    "#int(name) this cannot be converted\n",
    " "
   ]
  },
  {
   "cell_type": "code",
   "execution_count": 13,
   "id": "346b6988",
   "metadata": {},
   "outputs": [
    {
     "data": {
      "text/plain": [
       "5.0"
      ]
     },
     "execution_count": 13,
     "metadata": {},
     "output_type": "execute_result"
    }
   ],
   "source": [
    "height =5.5\n",
    "type(height)\n",
    "\n",
    "#float into int\n",
    "float(int(height)) "
   ]
  },
  {
   "cell_type": "code",
   "execution_count": 14,
   "id": "08821754",
   "metadata": {},
   "outputs": [
    {
     "name": "stdout",
     "output_type": "stream",
     "text": [
      "10 <class 'int'>\n",
      "hello  <class 'str'>\n",
      "3.14 <class 'float'>\n"
     ]
    }
   ],
   "source": [
    "##Dyamic typing \n",
    "#python allows a type of a variable to change as the program executes\n",
    "\n",
    "var=10\n",
    "print(var,type(var))\n",
    "\n",
    "var=\"hello \"\n",
    "print(var,type(var))\n",
    "\n",
    "var=3.14\n",
    "print(var,type(var))"
   ]
  },
  {
   "cell_type": "code",
   "execution_count": 15,
   "id": "7092d528",
   "metadata": {},
   "outputs": [
    {
     "name": "stdout",
     "output_type": "stream",
     "text": [
      "21\n"
     ]
    }
   ],
   "source": [
    "##input \n",
    "\n",
    "age=input(\"what is the age \")\n",
    "print(age)"
   ]
  },
  {
   "cell_type": "code",
   "execution_count": 18,
   "id": "8e5166e7",
   "metadata": {},
   "outputs": [
    {
     "name": "stdout",
     "output_type": "stream",
     "text": [
      "sum: 15.0\n",
      "difference: 5.0\n",
      "product 50.0\n",
      "Quotient 2.0\n"
     ]
    }
   ],
   "source": [
    "## simple calculator \n",
    "num1=float(input(\"enter first number \"))\n",
    "num2=float(input(\"enter second number \"))\n",
    "\n",
    "sum=num1+num2\n",
    "difference=num1-num2\n",
    "product=num1*num2\n",
    "Quotient= num1/ num2\n",
    "\n",
    "print(\"sum:\",sum)\n",
    "print(\"difference:\",difference)\n",
    "print(\"product\",product)\n",
    "print(\"Quotient\",Quotient)"
   ]
  },
  {
   "cell_type": "code",
   "execution_count": null,
   "id": "55e7ad2f",
   "metadata": {},
   "outputs": [],
   "source": []
  }
 ],
 "metadata": {
  "kernelspec": {
   "display_name": "venv",
   "language": "python",
   "name": "python3"
  },
  "language_info": {
   "codemirror_mode": {
    "name": "ipython",
    "version": 3
   },
   "file_extension": ".py",
   "mimetype": "text/x-python",
   "name": "python",
   "nbconvert_exporter": "python",
   "pygments_lexer": "ipython3",
   "version": "3.12.0"
  }
 },
 "nbformat": 4,
 "nbformat_minor": 5
}
