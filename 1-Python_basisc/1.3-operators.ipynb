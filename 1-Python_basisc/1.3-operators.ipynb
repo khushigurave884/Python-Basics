{
 "cells": [
  {
   "cell_type": "markdown",
   "id": "f5dc1bcb",
   "metadata": {},
   "source": [
    "Operators\n",
    "\n",
    "intoduction to operators \n",
    "**arithmetic operators:\n",
    "1 addition \n",
    "2 substraction \n",
    "3 division\n",
    "4 floor division \n",
    "5 modulus\n",
    "6 exponentiation \n",
    "\n",
    "** comparison operator \n",
    "1 equal to\n",
    "2 not equal to \n",
    "3 greater than\n",
    "4 less than \n",
    "5 greater than or equal to \n",
    "6 less than equal to \n",
    "\n",
    "** logical operator \n",
    "1 AND\n",
    "2 OR \n",
    "3 NOT \n",
    "\n",
    "** PRTICAL EXAMPLES AND COMMON ERROS \n",
    "\n",
    "\n"
   ]
  },
  {
   "cell_type": "code",
   "execution_count": 3,
   "id": "fc774331",
   "metadata": {},
   "outputs": [
    {
     "name": "stdout",
     "output_type": "stream",
     "text": [
      "15\n",
      "5\n",
      "50\n",
      "2.0\n",
      "2\n",
      "0\n",
      "100000\n"
     ]
    }
   ],
   "source": [
    "##arithmetic operations \n",
    "a=10\n",
    "b=5\n",
    "\n",
    "add=a+b\n",
    "sub=a-b\n",
    "mul=a*b\n",
    "div=a/b\n",
    "floor_div=a//b\n",
    "modulus=a%b\n",
    "exponent=a**b\n",
    "\n",
    "print(add )\n",
    "print(sub)\n",
    "print(mul )\n",
    "print(div )\n",
    "print(floor_div )\n",
    "print(modulus )\n",
    "print(exponent)"
   ]
  },
  {
   "cell_type": "code",
   "execution_count": null,
   "id": "8d4a8b30",
   "metadata": {},
   "outputs": [
    {
     "data": {
      "text/plain": [
       "True"
      ]
     },
     "execution_count": 4,
     "metadata": {},
     "output_type": "execute_result"
    }
   ],
   "source": [
    "##comparison operators \n",
    "\n",
    "##== equal to  \n",
    "\n",
    "a=10\n",
    "b=10\n",
    "a==b\n",
    "\n"
   ]
  },
  {
   "cell_type": "code",
   "execution_count": 5,
   "id": "29e2f7b6",
   "metadata": {},
   "outputs": [
    {
     "data": {
      "text/plain": [
       "False"
      ]
     },
     "execution_count": 5,
     "metadata": {},
     "output_type": "execute_result"
    }
   ],
   "source": [
    "## not equal  to !=\n",
    "a!=b"
   ]
  },
  {
   "cell_type": "code",
   "execution_count": null,
   "id": "2d898f55",
   "metadata": {},
   "outputs": [
    {
     "data": {
      "text/plain": [
       "False"
      ]
     },
     "execution_count": 6,
     "metadata": {},
     "output_type": "execute_result"
    }
   ],
   "source": [
    "##greater than >\n",
    "num1=45\n",
    "num2=55\n",
    "num1>num2"
   ]
  },
  {
   "cell_type": "code",
   "execution_count": 7,
   "id": "509de89e",
   "metadata": {},
   "outputs": [
    {
     "data": {
      "text/plain": [
       "True"
      ]
     },
     "execution_count": 7,
     "metadata": {},
     "output_type": "execute_result"
    }
   ],
   "source": [
    "##less than <\n",
    "num1<num2\n"
   ]
  },
  {
   "cell_type": "code",
   "execution_count": 8,
   "id": "25a37f9b",
   "metadata": {},
   "outputs": [
    {
     "data": {
      "text/plain": [
       "False"
      ]
     },
     "execution_count": 8,
     "metadata": {},
     "output_type": "execute_result"
    }
   ],
   "source": [
    "## greater than or equal to \n",
    "number1=45\n",
    "number2=55\n",
    "number1>=number2"
   ]
  },
  {
   "cell_type": "code",
   "execution_count": 9,
   "id": "945cff5a",
   "metadata": {},
   "outputs": [
    {
     "data": {
      "text/plain": [
       "True"
      ]
     },
     "execution_count": 9,
     "metadata": {},
     "output_type": "execute_result"
    }
   ],
   "source": [
    "## less than or equal to \n",
    "number1=45\n",
    "number2=55\n",
    "number1<=number2"
   ]
  },
  {
   "cell_type": "markdown",
   "id": "233228de",
   "metadata": {},
   "source": [
    "### logical operators"
   ]
  },
  {
   "cell_type": "code",
   "execution_count": null,
   "id": "eacac330",
   "metadata": {},
   "outputs": [
    {
     "name": "stdout",
     "output_type": "stream",
     "text": [
      "True\n"
     ]
    }
   ],
   "source": [
    "## AND ,NOT,OR\n",
    "# in AND OPERATOR FROM BOTH VALUES ONE SHOULD BE TRUE THEN ONLY IT WILL BE TRUE OTHER WISE IT WILL BE FALSE \n",
    "X=True\n",
    "Y=True\n",
    "result = X and Y\n",
    "print(result)"
   ]
  },
  {
   "cell_type": "code",
   "execution_count": 11,
   "id": "5832677c",
   "metadata": {},
   "outputs": [
    {
     "name": "stdout",
     "output_type": "stream",
     "text": [
      "False\n"
     ]
    }
   ],
   "source": [
    "##OR \n",
    "# IN CASE OF OR BOTH VALUES HAVE FALSE VALUE THEN ONLY FALSE OTHERWISE TRUE \n",
    "X=False\n",
    "Y=False\n",
    "result = X and Y\n",
    "print(result)"
   ]
  },
  {
   "cell_type": "code",
   "execution_count": 12,
   "id": "7cc78b2d",
   "metadata": {},
   "outputs": [
    {
     "data": {
      "text/plain": [
       "True"
      ]
     },
     "execution_count": 12,
     "metadata": {},
     "output_type": "execute_result"
    }
   ],
   "source": [
    "# not operator\n",
    "#it is reversed version of boolean variable\n",
    "X=False\n",
    "not X"
   ]
  },
  {
   "cell_type": "code",
   "execution_count": null,
   "id": "37aed088",
   "metadata": {},
   "outputs": [],
   "source": []
  }
 ],
 "metadata": {
  "kernelspec": {
   "display_name": "venv",
   "language": "python",
   "name": "python3"
  },
  "language_info": {
   "codemirror_mode": {
    "name": "ipython",
    "version": 3
   },
   "file_extension": ".py",
   "mimetype": "text/x-python",
   "name": "python",
   "nbconvert_exporter": "python",
   "pygments_lexer": "ipython3",
   "version": "3.12.0"
  }
 },
 "nbformat": 4,
 "nbformat_minor": 5
}
