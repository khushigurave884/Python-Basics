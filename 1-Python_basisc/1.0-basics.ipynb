{
 "cells": [
  {
   "cell_type": "markdown",
   "id": "2b22d17f",
   "metadata": {},
   "source": [
    "Syntax and Semantics In Python\n"
   ]
  },
  {
   "cell_type": "code",
   "execution_count": null,
   "id": "9d02ab1d",
   "metadata": {},
   "outputs": [],
   "source": [
    "#topics to be covered \n",
    "\"\"\"1.single line comment and multiline comment\n",
    "2. Definition Of syntax and semantic \n",
    "3. basic syntax rules in python\n",
    "4.understanding semantic in python\n",
    "5.common syntax errors and how to avoid them \n",
    "5 pratical code example\"\"\""
   ]
  },
  {
   "cell_type": "code",
   "execution_count": null,
   "id": "4bf4b9f7",
   "metadata": {},
   "outputs": [],
   "source": [
    "#syntax is about the correct arrangement of words and symbols in code \n",
    "#semantics is whatever the code we are specifically writing what it is supoosed to do right when it runs "
   ]
  },
  {
   "cell_type": "code",
   "execution_count": 4,
   "id": "f6296d66",
   "metadata": {},
   "outputs": [
    {
     "name": "stdout",
     "output_type": "stream",
     "text": [
      "Khushi\n",
      "Gurave\n"
     ]
    }
   ],
   "source": [
    "##basics syntax rules in python\n",
    "## case sensitivity  python is case sensitive \n",
    "\n",
    "name=\"Khushi\"\n",
    "Name=\"Gurave\"\n",
    "\n",
    "print(name)\n",
    "print(Name)\n",
    "#both the variable is different in python let it be meaning should be same but it is wriiten in different \n"
   ]
  },
  {
   "cell_type": "code",
   "execution_count": 5,
   "id": "3b0bdec4",
   "metadata": {},
   "outputs": [
    {
     "name": "stdout",
     "output_type": "stream",
     "text": [
      "21\n"
     ]
    }
   ],
   "source": [
    "##identation\n",
    "## python uses identation to define blocks of code consistent use of spaces (commonly 4)or a tab is required \n",
    "\n",
    "age=21\n",
    "if age>21:\n",
    "    print(age)\n",
    "print(age)"
   ]
  },
  {
   "cell_type": "code",
   "execution_count": 6,
   "id": "d028c65a",
   "metadata": {},
   "outputs": [
    {
     "name": "stdout",
     "output_type": "stream",
     "text": [
      "hello world\n"
     ]
    }
   ],
   "source": [
    "#this is single line comment \n",
    "print(\"hello world\")"
   ]
  },
  {
   "cell_type": "code",
   "execution_count": null,
   "id": "bf598dac",
   "metadata": {},
   "outputs": [
    {
     "name": "stdout",
     "output_type": "stream",
     "text": [
      "43\n"
     ]
    }
   ],
   "source": [
    "##line continuation\n",
    "## use a backslash to continue a statement in a line\n",
    "total=1+2+3+4+5+6+7+\\\n",
    "    4+5+6\n",
    "print(total)"
   ]
  },
  {
   "cell_type": "code",
   "execution_count": 8,
   "id": "6a8767ae",
   "metadata": {},
   "outputs": [
    {
     "name": "stdout",
     "output_type": "stream",
     "text": [
      "15\n"
     ]
    }
   ],
   "source": [
    "##multiple statement on a single line \n",
    "x=5;y=10;z=x+y\n",
    "print(z)"
   ]
  },
  {
   "cell_type": "code",
   "execution_count": 12,
   "id": "41bc84e4",
   "metadata": {},
   "outputs": [
    {
     "name": "stdout",
     "output_type": "stream",
     "text": [
      "<class 'int'>\n",
      "<class 'str'>\n"
     ]
    }
   ],
   "source": [
    "##understand semantics in python\n",
    "#variables assignemnt \n",
    "age=21 ##age is an integer\n",
    "name=\"Khushi\"##name is a staring\n",
    "\n",
    "print(type(age))\n",
    "print(type(name))"
   ]
  },
  {
   "cell_type": "code",
   "execution_count": 14,
   "id": "e86b7e02",
   "metadata": {},
   "outputs": [
    {
     "name": "stdout",
     "output_type": "stream",
     "text": [
      "correct identation\n",
      "this will print\n",
      "outside the if block\n"
     ]
    }
   ],
   "source": [
    "## code example of identation\n",
    "if True:\n",
    "    print(\"correct identation\")\n",
    "    if False:\n",
    "        print(\"this not print \")\n",
    "    print(\"this will print\")\n",
    "print(\"outside the if block\")"
   ]
  },
  {
   "cell_type": "code",
   "execution_count": null,
   "id": "130a0103",
   "metadata": {},
   "outputs": [],
   "source": []
  }
 ],
 "metadata": {
  "kernelspec": {
   "display_name": "venv",
   "language": "python",
   "name": "python3"
  },
  "language_info": {
   "codemirror_mode": {
    "name": "ipython",
    "version": 3
   },
   "file_extension": ".py",
   "mimetype": "text/x-python",
   "name": "python",
   "nbconvert_exporter": "python",
   "pygments_lexer": "ipython3",
   "version": "3.12.0"
  }
 },
 "nbformat": 4,
 "nbformat_minor": 5
}
