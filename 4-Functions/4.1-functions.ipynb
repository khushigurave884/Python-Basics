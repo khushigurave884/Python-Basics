{
 "cells": [
  {
   "cell_type": "markdown",
   "id": "de1846d2",
   "metadata": {},
   "source": [
    "function is a block of code that perform a specific task function help in organizing code ,resuin\n",
    "code and imporving readibility"
   ]
  },
  {
   "cell_type": "code",
   "execution_count": 2,
   "id": "b4e11287",
   "metadata": {},
   "outputs": [],
   "source": [
    "##syntax\n",
    "def function_name(parameters):\n",
    "    \"\"\"docstring\"\"\"\n",
    "    #function body\"\n",
    "    return expression\n"
   ]
  },
  {
   "cell_type": "code",
   "execution_count": 3,
   "id": "88ee37d0",
   "metadata": {},
   "outputs": [
    {
     "name": "stdout",
     "output_type": "stream",
     "text": [
      "the number is even\n"
     ]
    }
   ],
   "source": [
    "#why function \n",
    "num=24\n",
    "if num%2==0:\n",
    "    print(\"the number is even\")\n",
    "else:\n",
    "    print(\"the number is odd\")"
   ]
  },
  {
   "cell_type": "code",
   "execution_count": null,
   "id": "58757947",
   "metadata": {},
   "outputs": [],
   "source": [
    "def even_or_odd(num):\n",
    "    \"\"\"this function performs finds even or odd\"\"\"\n",
    "    if num%2==0:\n",
    "        print(\"the number is even\")\n",
    "    else:\n",
    "        print(\"the number is odd\")"
   ]
  },
  {
   "cell_type": "code",
   "execution_count": 5,
   "id": "a0230b1e",
   "metadata": {},
   "outputs": [
    {
     "name": "stdout",
     "output_type": "stream",
     "text": [
      "the number is even\n"
     ]
    }
   ],
   "source": [
    "##call this function \n",
    "even_or_odd(24)"
   ]
  },
  {
   "cell_type": "code",
   "execution_count": 12,
   "id": "e3dc5906",
   "metadata": {},
   "outputs": [
    {
     "name": "stdout",
     "output_type": "stream",
     "text": [
      "6\n"
     ]
    }
   ],
   "source": [
    "## function with multiple parameters \n",
    "def add(a,b):\n",
    "    c=a+b\n",
    "    return c\n",
    "result=add(2,4)\n",
    "print(result)"
   ]
  },
  {
   "cell_type": "code",
   "execution_count": 16,
   "id": "97f3ca39",
   "metadata": {},
   "outputs": [
    {
     "name": "stdout",
     "output_type": "stream",
     "text": [
      "hello gurave\n"
     ]
    }
   ],
   "source": [
    "##default parameters \n",
    "##we an also provide default paramaeters as a function \n",
    "def greet(name=\"hushi\"):\n",
    "    print(f\"hello {name}\")\n",
    "greet(\"gurave\")\n"
   ]
  },
  {
   "cell_type": "code",
   "execution_count": 23,
   "id": "29f7de31",
   "metadata": {},
   "outputs": [],
   "source": [
    "##variable length arguments \n",
    "##positional and key word argument \n",
    "\n",
    "def print_numbers(*args):#hreinsteadf args you can write anything \n",
    "    for number in args:\n",
    "        print(number)"
   ]
  },
  {
   "cell_type": "code",
   "execution_count": 24,
   "id": "aafd7254",
   "metadata": {},
   "outputs": [
    {
     "name": "stdout",
     "output_type": "stream",
     "text": [
      "1\n",
      "2\n",
      "3\n",
      "4\n",
      "5\n",
      "6\n",
      "7\n",
      "8\n",
      "args\n"
     ]
    }
   ],
   "source": [
    "print_numbers(1,2,3,4,5,6,7,8,\"args\")"
   ]
  },
  {
   "cell_type": "code",
   "execution_count": 25,
   "id": "f00e6b81",
   "metadata": {},
   "outputs": [
    {
     "name": "stdout",
     "output_type": "stream",
     "text": [
      "1\n",
      "2\n",
      "3\n",
      "4\n",
      "5\n",
      "6\n",
      "7\n",
      "8\n",
      "args\n"
     ]
    }
   ],
   "source": [
    "#positional arguments \n",
    "\n",
    "\n",
    "def print_numbers(*args):#hreinsteadf args you can write anything \n",
    "    for number in args:\n",
    "        print(number)\n",
    "print_numbers(1,2,3,4,5,6,7,8,\"args\")"
   ]
  },
  {
   "cell_type": "code",
   "execution_count": 31,
   "id": "e9639469",
   "metadata": {},
   "outputs": [],
   "source": [
    "##keyword arguments \n",
    "## all key arguments have key value pair\n",
    "def print_detail(**kwargs):#s is the key argument so kwargs\n",
    "    for key,value in kwargs.items():\n",
    "        print(f\"{key}:{value}\")\n",
    "        \n",
    "\n",
    "\n"
   ]
  },
  {
   "cell_type": "code",
   "execution_count": 32,
   "id": "f8b607e7",
   "metadata": {},
   "outputs": [
    {
     "name": "stdout",
     "output_type": "stream",
     "text": [
      "name:khushi\n",
      "age:21\n",
      "country:india\n"
     ]
    }
   ],
   "source": [
    "print_detail(name=\"khushi\",age=\"21\",country=\"india\")\n"
   ]
  },
  {
   "cell_type": "code",
   "execution_count": 34,
   "id": "bc0985ba",
   "metadata": {},
   "outputs": [],
   "source": [
    "def print_detail(*args,**kwargs):#he key argument so kwargs\n",
    "    for val in args:\n",
    "        print(f\"positional argument {val}\")\n",
    "    for key,value in kwargs.items():\n",
    "        print(f\"{key}:{value}\")"
   ]
  },
  {
   "cell_type": "code",
   "execution_count": 38,
   "id": "43e18b38",
   "metadata": {},
   "outputs": [
    {
     "name": "stdout",
     "output_type": "stream",
     "text": [
      "positional argument 1\n",
      "positional argument 2\n",
      "positional argument 3\n",
      "positional argument 4\n",
      "positional argument khushi\n",
      "name:khushi\n",
      "age:32\n",
      "country:india\n"
     ]
    }
   ],
   "source": [
    "print_detail(1,2,3,4,\"khushi\",name=\"khushi\",age=\"32\",country=\"india\")"
   ]
  },
  {
   "cell_type": "code",
   "execution_count": 39,
   "id": "5a1fe9f8",
   "metadata": {},
   "outputs": [
    {
     "data": {
      "text/plain": [
       "6"
      ]
     },
     "execution_count": 39,
     "metadata": {},
     "output_type": "execute_result"
    }
   ],
   "source": [
    "## return statement \n",
    "def multiply(a,b):\n",
    "    return a*b\n",
    "multiply(2,3)"
   ]
  },
  {
   "cell_type": "code",
   "execution_count": 40,
   "id": "0e8bfd20",
   "metadata": {},
   "outputs": [
    {
     "data": {
      "text/plain": [
       "(6, 2)"
      ]
     },
     "execution_count": 40,
     "metadata": {},
     "output_type": "execute_result"
    }
   ],
   "source": [
    "def multiply(a,b):\n",
    "    return a*b,a\n",
    "multiply(2,3)"
   ]
  },
  {
   "cell_type": "code",
   "execution_count": null,
   "id": "35260c2c",
   "metadata": {},
   "outputs": [],
   "source": []
  }
 ],
 "metadata": {
  "kernelspec": {
   "display_name": "venv",
   "language": "python",
   "name": "python3"
  },
  "language_info": {
   "codemirror_mode": {
    "name": "ipython",
    "version": 3
   },
   "file_extension": ".py",
   "mimetype": "text/x-python",
   "name": "python",
   "nbconvert_exporter": "python",
   "pygments_lexer": "ipython3",
   "version": "3.12.0"
  }
 },
 "nbformat": 4,
 "nbformat_minor": 5
}
