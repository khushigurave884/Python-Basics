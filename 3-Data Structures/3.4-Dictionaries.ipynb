{
 "cells": [
  {
   "cell_type": "code",
   "execution_count": null,
   "id": "41d24e0d",
   "metadata": {},
   "outputs": [],
   "source": []
  },
  {
   "cell_type": "markdown",
   "id": "dd5baf5b",
   "metadata": {},
   "source": [
    "##introduction to dictionaries\n",
    "\n",
    "dictionaries are unorderd collections of items they store data in key-value pair keys must be unique and immutable (eg. strngs ,numbers or tuples )\n",
    "while values can be of any type "
   ]
  },
  {
   "cell_type": "markdown",
   "id": "7ede05da",
   "metadata": {},
   "source": []
  },
  {
   "cell_type": "code",
   "execution_count": 1,
   "id": "54c2bb4d",
   "metadata": {},
   "outputs": [
    {
     "name": "stdout",
     "output_type": "stream",
     "text": [
      "<class 'dict'>\n"
     ]
    }
   ],
   "source": [
    "## creating dictionaries\n",
    "empty_dict={}\n",
    "print(type(empty_dict))\n"
   ]
  },
  {
   "cell_type": "code",
   "execution_count": 3,
   "id": "10fc800c",
   "metadata": {},
   "outputs": [
    {
     "name": "stdout",
     "output_type": "stream",
     "text": [
      "{'name': 'khushi', 'age': 21, 'grade': 24}\n",
      "<class 'dict'>\n"
     ]
    }
   ],
   "source": [
    "student={'name':\"khushi\",\"age\":21,\"grade\":24}\n",
    "print(student)\n",
    "print(type(student))\n"
   ]
  },
  {
   "cell_type": "code",
   "execution_count": null,
   "id": "83957c36",
   "metadata": {},
   "outputs": [
    {
     "name": "stdout",
     "output_type": "stream",
     "text": [
      "{'name': 24, 'age': 21}\n"
     ]
    }
   ],
   "source": [
    "## error  single key is always used \n",
    "student={'name':\"khushi\",\"age\":21,\"name\":24}\n",
    "print(student)"
   ]
  },
  {
   "cell_type": "code",
   "execution_count": 7,
   "id": "00cb8ac9",
   "metadata": {},
   "outputs": [
    {
     "name": "stdout",
     "output_type": "stream",
     "text": [
      "{'name': 'khushi', 'age': 21, 'grade': 'A'}\n"
     ]
    }
   ],
   "source": [
    "## accesing dictionary elements \n",
    "student={'name':\"khushi\",\"age\":21,\"grade\":'A'}\n",
    "print(student)\n"
   ]
  },
  {
   "cell_type": "code",
   "execution_count": 15,
   "id": "785ed84b",
   "metadata": {},
   "outputs": [
    {
     "name": "stdout",
     "output_type": "stream",
     "text": [
      "A\n",
      "21\n",
      "A\n",
      "None\n",
      "not available\n"
     ]
    }
   ],
   "source": [
    "print(student['grade'])\n",
    "print(student['age'])\n",
    "\n",
    "##accessing using get() method \n",
    "print(student.get('grade'))\n",
    "print(student.get('last_name'))\n",
    "print(student.get('last_name',\"not available\"))"
   ]
  },
  {
   "cell_type": "code",
   "execution_count": 16,
   "id": "a8e8b572",
   "metadata": {},
   "outputs": [
    {
     "name": "stdout",
     "output_type": "stream",
     "text": [
      "{'name': 'khushi', 'age': 21, 'grade': 'A'}\n"
     ]
    }
   ],
   "source": [
    "## modifying dictionary elements \n",
    "##dictionary are mutable ,so you can add update or deelte elements \n",
    "print(student )"
   ]
  },
  {
   "cell_type": "code",
   "execution_count": 22,
   "id": "d4a69c8d",
   "metadata": {},
   "outputs": [
    {
     "name": "stdout",
     "output_type": "stream",
     "text": [
      "{'name': 'khushi', 'age': 33, 'address': 'india'}\n",
      "{'name': 'khushi', 'age': 33, 'address': 'india'}\n"
     ]
    }
   ],
   "source": [
    "student[\"age\"]=33 ##updates value for the key \n",
    "print(student)\n",
    "student[\"address\"]=\"india\" ## added a new ke and value \n",
    "print(student )\n",
    "\n"
   ]
  },
  {
   "cell_type": "code",
   "execution_count": 23,
   "id": "5bf9c9b5",
   "metadata": {},
   "outputs": [
    {
     "name": "stdout",
     "output_type": "stream",
     "text": [
      "{'name': 'khushi', 'address': 'india'}\n"
     ]
    }
   ],
   "source": [
    "del student['age']## this will delete the key and value pair \n",
    "print(student )"
   ]
  },
  {
   "cell_type": "code",
   "execution_count": 25,
   "id": "2c91b8be",
   "metadata": {},
   "outputs": [
    {
     "name": "stdout",
     "output_type": "stream",
     "text": [
      "dict_keys(['name', 'address'])\n",
      "dict_values(['khushi', 'india'])\n"
     ]
    }
   ],
   "source": [
    "### dictionary methods \n",
    "keys=student.keys() ## all the keys\n",
    "print(keys)\n",
    "values=student.values() ## all the values \n",
    "print(values)"
   ]
  },
  {
   "cell_type": "code",
   "execution_count": 26,
   "id": "970f11f7",
   "metadata": {},
   "outputs": [
    {
     "name": "stdout",
     "output_type": "stream",
     "text": [
      "dict_items([('name', 'khushi'), ('address', 'india')])\n"
     ]
    }
   ],
   "source": [
    "items=student.items()##get all the key value pairs\n",
    "print(items)"
   ]
  },
  {
   "cell_type": "code",
   "execution_count": 29,
   "id": "df0be8f1",
   "metadata": {},
   "outputs": [
    {
     "name": "stdout",
     "output_type": "stream",
     "text": [
      "{'name': 'khushi', 'address': 'india'}\n",
      "{'name': 'khushi', 'address': 'india'}\n"
     ]
    }
   ],
   "source": [
    "##shallow copy \n",
    "student_copy=student\n",
    "print(student)\n",
    "print(student_copy)"
   ]
  },
  {
   "cell_type": "code",
   "execution_count": 30,
   "id": "ba627879",
   "metadata": {},
   "outputs": [
    {
     "name": "stdout",
     "output_type": "stream",
     "text": [
      "{'name': 'khushi1', 'address': 'india'}\n",
      "{'name': 'khushi1', 'address': 'india'}\n"
     ]
    }
   ],
   "source": [
    "student[\"name\"]=\"khushi1\"\n",
    "print(student)\n",
    "print(student_copy)\n"
   ]
  },
  {
   "cell_type": "code",
   "execution_count": 32,
   "id": "0f178b5b",
   "metadata": {},
   "outputs": [
    {
     "name": "stdout",
     "output_type": "stream",
     "text": [
      "{'name': 'khushi1', 'address': 'india'}\n",
      "{'name': 'khushi1', 'address': 'india'}\n"
     ]
    }
   ],
   "source": [
    "student_copy1=student.copy() ## shallow copy \n",
    "print(student_copy1)\n",
    "print(student)"
   ]
  },
  {
   "cell_type": "code",
   "execution_count": 35,
   "id": "9cfe9a18",
   "metadata": {},
   "outputs": [
    {
     "name": "stdout",
     "output_type": "stream",
     "text": [
      "{'name': 'khushi2', 'address': 'india'}\n",
      "{'name': 'khushi1', 'address': 'india'}\n"
     ]
    }
   ],
   "source": [
    "student[\"name\"]=\"khushi2\"\n",
    "print(student)\n",
    "print(student_copy1)"
   ]
  },
  {
   "cell_type": "code",
   "execution_count": 36,
   "id": "f56f647c",
   "metadata": {},
   "outputs": [
    {
     "name": "stdout",
     "output_type": "stream",
     "text": [
      "name\n",
      "address\n"
     ]
    }
   ],
   "source": [
    "##iterating over dictionaries \n",
    "## you can use loops to interate oer dictionaries ,keys ,values,or items \n",
    "##iterating over keys \n",
    "for keys in student.keys():\n",
    "    print(keys)"
   ]
  },
  {
   "cell_type": "code",
   "execution_count": 38,
   "id": "56d92876",
   "metadata": {},
   "outputs": [
    {
     "name": "stdout",
     "output_type": "stream",
     "text": [
      "khushi2\n",
      "india\n"
     ]
    }
   ],
   "source": [
    "##iterateds over values \n",
    "for values in student.values():\n",
    "    print(values)"
   ]
  },
  {
   "cell_type": "code",
   "execution_count": 42,
   "id": "75e805ec",
   "metadata": {},
   "outputs": [
    {
     "name": "stdout",
     "output_type": "stream",
     "text": [
      "name:khushi2\n",
      "address:india\n"
     ]
    }
   ],
   "source": [
    "##iterate over a key value pair \n",
    "for key,value in student.items():\n",
    "    print(f\"{key}:{value}\")"
   ]
  },
  {
   "cell_type": "code",
   "execution_count": 43,
   "id": "db3b52ff",
   "metadata": {},
   "outputs": [
    {
     "name": "stdout",
     "output_type": "stream",
     "text": [
      "{'student1': {'name': 'khushi', 'age': 21}, 'student2': {'name': 'petter', 'age': 22}}\n"
     ]
    }
   ],
   "source": [
    "## nested dictionaries \n",
    "students={\n",
    "    \"student1\":{\"name\":\"khushi\",\"age\":21},\n",
    "    \"student2\":{\"name\":\"petter\",\"age\":22}\n",
    "}\n",
    "print(students)"
   ]
  },
  {
   "cell_type": "code",
   "execution_count": 44,
   "id": "5cb7b557",
   "metadata": {},
   "outputs": [
    {
     "name": "stdout",
     "output_type": "stream",
     "text": [
      "petter\n"
     ]
    }
   ],
   "source": [
    "##ccess nested dictionaries \n",
    "print(students[\"student2\"][\"name\"])"
   ]
  },
  {
   "cell_type": "code",
   "execution_count": 47,
   "id": "9e1c887e",
   "metadata": {},
   "outputs": [
    {
     "name": "stdout",
     "output_type": "stream",
     "text": [
      "student1:{'name': 'khushi', 'age': 21}\n",
      "name:khushi\n",
      "age:21\n",
      "student2:{'name': 'petter', 'age': 22}\n",
      "name:petter\n",
      "age:22\n"
     ]
    }
   ],
   "source": [
    "##iterating over nested elements \n",
    "for student_id,student_info in students.items():\n",
    "    print(f\"{student_id}:{student_info}\")\n",
    "    for key,value in student_info.items():\n",
    "        print(f\"{key}:{value}\")"
   ]
  },
  {
   "cell_type": "code",
   "execution_count": 48,
   "id": "bea5c2e5",
   "metadata": {},
   "outputs": [
    {
     "name": "stdout",
     "output_type": "stream",
     "text": [
      "{0: 0, 1: 1, 2: 4, 3: 9, 4: 16}\n"
     ]
    }
   ],
   "source": [
    "## dictionary compression \n",
    "squares={x:x**2  for x in range(5)}\n",
    "print(squares)"
   ]
  },
  {
   "cell_type": "code",
   "execution_count": 51,
   "id": "02a50a3f",
   "metadata": {},
   "outputs": [
    {
     "name": "stdout",
     "output_type": "stream",
     "text": [
      "{0: 0, 2: 4, 4: 16, 6: 36, 8: 64}\n"
     ]
    }
   ],
   "source": [
    "##SQuares of even numbers \n",
    "##condition  dictionary comprehension \n",
    "even={x:x**2 for x in range(10) if x%2==0}\n",
    "print(even)"
   ]
  },
  {
   "cell_type": "code",
   "execution_count": 55,
   "id": "18eb465b",
   "metadata": {},
   "outputs": [
    {
     "name": "stdout",
     "output_type": "stream",
     "text": [
      "{1: 1, 2: 2, 3: 2, 4: 4}\n"
     ]
    }
   ],
   "source": [
    "## pratical example\n",
    "\n",
    "## use a dictionary to count the frequency elements in the list \n",
    "numbers=[1,2,2,3,3,4,4,4,4]\n",
    "frequency={}\n",
    "\n",
    "for number in numbers:\n",
    "    if number in frequency:\n",
    "        frequency[number]+=1\n",
    "    else:\n",
    "        frequency[number]=1\n",
    "print(frequency)"
   ]
  },
  {
   "cell_type": "code",
   "execution_count": 57,
   "id": "5dbee1bd",
   "metadata": {},
   "outputs": [
    {
     "name": "stdout",
     "output_type": "stream",
     "text": [
      "{'a': 1, 'b': 3, 'c': 4}\n"
     ]
    }
   ],
   "source": [
    "## merge 2 dictionaries into one \n",
    "\n",
    "dict1={\"a\":1,\"b\":2}\n",
    "dict2={\"b\":3,\"c\":4}\n",
    "merged_dict={**dict1,**dict2}\n",
    "print(merged_dict)"
   ]
  },
  {
   "cell_type": "code",
   "execution_count": null,
   "id": "82170ca4",
   "metadata": {},
   "outputs": [],
   "source": []
  }
 ],
 "metadata": {
  "kernelspec": {
   "display_name": "venv",
   "language": "python",
   "name": "python3"
  },
  "language_info": {
   "codemirror_mode": {
    "name": "ipython",
    "version": 3
   },
   "file_extension": ".py",
   "mimetype": "text/x-python",
   "name": "python",
   "nbconvert_exporter": "python",
   "pygments_lexer": "ipython3",
   "version": "3.12.0"
  }
 },
 "nbformat": 4,
 "nbformat_minor": 5
}
