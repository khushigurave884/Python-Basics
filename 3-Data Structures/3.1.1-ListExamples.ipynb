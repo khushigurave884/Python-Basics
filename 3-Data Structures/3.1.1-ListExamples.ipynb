{
 "cells": [
  {
   "cell_type": "markdown",
   "id": "7dce603b",
   "metadata": {},
   "source": [
    "list are the one of the mostcommony used data structures in python thanks to their versability and ease of use here are several pratical examples that isllustrate their use in real world "
   ]
  },
  {
   "cell_type": "markdown",
   "id": "17059bb1",
   "metadata": {},
   "source": [
    "example 1 manage a to do list \n",
    " create a to do list to keep track of tasks "
   ]
  },
  {
   "cell_type": "markdown",
   "id": "0390cf6b",
   "metadata": {},
   "source": []
  },
  {
   "cell_type": "code",
   "execution_count": 11,
   "id": "71aea0a3",
   "metadata": {},
   "outputs": [
    {
     "name": "stdout",
     "output_type": "stream",
     "text": [
      "to do list remaining\n",
      "-buy groceries\n",
      "-pay bills\n",
      "-schedule meeting\n",
      "-go for a run\n"
     ]
    }
   ],
   "source": [
    "to_do_list=[\"buy groceries\",\"clean the house\",\"pay bills\"]\n",
    "##adding to task \n",
    "to_do_list.append(\"schedule meeting\")\n",
    "to_do_list.append(\"go for a run\")\n",
    "\n",
    "##removing a complete task \n",
    "to_do_list.remove(\"clean the house\")\n",
    "\n",
    "if \"pay bills \" in to_do_list:\n",
    "    print(\"dont forget to pay the ulility bills\")\n",
    "    \n",
    "print(\"to do list remaining\")\n",
    "for task in to_do_list:\n",
    "    print(f\"-{task}\")\n",
    "\n"
   ]
  },
  {
   "cell_type": "code",
   "execution_count": null,
   "id": "8d8c21df",
   "metadata": {},
   "outputs": [],
   "source": [
    "\n"
   ]
  },
  {
   "cell_type": "markdown",
   "id": "fbd62bd7",
   "metadata": {},
   "source": [
    "example 2 organizing student grade \n",
    "create a list to store and calculate average grades for student"
   ]
  },
  {
   "cell_type": "markdown",
   "id": "41a914cd",
   "metadata": {},
   "source": []
  },
  {
   "cell_type": "code",
   "execution_count": 14,
   "id": "4cba09d5",
   "metadata": {},
   "outputs": [
    {
     "name": "stdout",
     "output_type": "stream",
     "text": [
      "average grade:88.00\n",
      "highest grade:95\n",
      "lowest grade:78\n"
     ]
    }
   ],
   "source": [
    "##organizing student grades \n",
    "grades=[85,92,78,90,88]\n",
    "##adding a new grade \n",
    "grades.append(95)\n",
    "\n",
    "#calculating the average grade \n",
    "average_grade=sum(grades)/len(grades)\n",
    "print(f\"average grade:{average_grade:.2f}\")\n",
    "##finding the highest and lowest grades \n",
    "highest_grade=max(grades)\n",
    "lowest_grade=min(grades)\n",
    "\n",
    "print(f\"highest grade:{highest_grade}\")\n",
    "print(f\"lowest grade:{lowest_grade}\")\n"
   ]
  },
  {
   "cell_type": "code",
   "execution_count": null,
   "id": "9c5641c3",
   "metadata": {},
   "outputs": [],
   "source": []
  },
  {
   "cell_type": "markdown",
   "id": "c7f5d066",
   "metadata": {},
   "source": [
    "exampke 3 managing an inventory \n",
    "use a list to manage items in a store "
   ]
  },
  {
   "cell_type": "markdown",
   "id": "32f898ac",
   "metadata": {},
   "source": []
  },
  {
   "cell_type": "code",
   "execution_count": 15,
   "id": "e46e49b1",
   "metadata": {},
   "outputs": [
    {
     "name": "stdout",
     "output_type": "stream",
     "text": [
      "oranges are in stock\n",
      "inventory list:\n",
      "-apples\n",
      "-oranges\n",
      "-grapes\n",
      "-strawberries\n"
     ]
    }
   ],
   "source": [
    "##managing and inventory \n",
    "inventory=[\"apples\",\"banana\",\"oranges\",\"grapes\"]\n",
    "\n",
    "##adding a new line \n",
    "inventory.append(\"strawberries\")\n",
    "#removing an item that is out of stock\n",
    "inventory.remove(\"banana\")\n",
    "\n",
    "#checking if an item is in stock \n",
    "item=\"oranges\"\n",
    "if item in inventory:\n",
    "    print(f\"{item} are in stock\")\n",
    "else:\n",
    "    print(f\"{item} areout of stock\")\n",
    "print(\"inventory list:\")\n",
    "for item in inventory:\n",
    "    print(f\"-{item}\")\n"
   ]
  },
  {
   "cell_type": "code",
   "execution_count": null,
   "id": "d200353e",
   "metadata": {},
   "outputs": [],
   "source": []
  },
  {
   "cell_type": "markdown",
   "id": "589dfefb",
   "metadata": {},
   "source": [
    "example 4 collecting user feedback \n",
    "use a list collect and analyze users feedback "
   ]
  },
  {
   "cell_type": "code",
   "execution_count": 16,
   "id": "f9c22db1",
   "metadata": {},
   "outputs": [
    {
     "name": "stdout",
     "output_type": "stream",
     "text": [
      "positive feedback count:2\n",
      "user feedback:\n",
      "-great service!\n",
      "-very staisfied\n",
      "-could be better\n",
      "-excellent expreiance\n",
      "-not happy with the service\n"
     ]
    }
   ],
   "source": [
    "##collecting user feedback \n",
    "feedback=[\"great service!\",\"very staisfied\",\"could be better\",\"excellent expreiance\"]\n",
    "##adding new feedback \n",
    "feedback.append(\"not happy with the service\")\n",
    "##counting specific feedbcak \n",
    "positive_feedback_count=sum(1 for comment in feedback if \"great\" in comment.lower() or\"excellent\" in comment.lower())\n",
    "print(f\"positive feedback count:{positive_feedback_count}\")\n",
    "print(\"user feedback:\")\n",
    "for comment in feedback:\n",
    "    print(f\"-{comment}\")"
   ]
  },
  {
   "cell_type": "code",
   "execution_count": null,
   "id": "ed7e70fa",
   "metadata": {},
   "outputs": [],
   "source": []
  }
 ],
 "metadata": {
  "kernelspec": {
   "display_name": "venv",
   "language": "python",
   "name": "python3"
  },
  "language_info": {
   "codemirror_mode": {
    "name": "ipython",
    "version": 3
   },
   "file_extension": ".py",
   "mimetype": "text/x-python",
   "name": "python",
   "nbconvert_exporter": "python",
   "pygments_lexer": "ipython3",
   "version": "3.12.0"
  }
 },
 "nbformat": 4,
 "nbformat_minor": 5
}
