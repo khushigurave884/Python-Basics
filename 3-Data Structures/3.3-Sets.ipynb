{
 "cells": [
  {
   "cell_type": "markdown",
   "id": "20046de8",
   "metadata": {},
   "source": [
    "Sets \n",
    "\n",
    "sets are a built in data type in python used to store collections of unique items they are unordered meaning that the kements do not follow a specific order and they do not allow duplocate elemets sets are useful for membership tests eliminating duplicate entries and performing mathematical set operation like union itersection difference and symmetric difference "
   ]
  },
  {
   "cell_type": "code",
   "execution_count": 4,
   "id": "2df2ed74",
   "metadata": {},
   "outputs": [
    {
     "name": "stdout",
     "output_type": "stream",
     "text": [
      "{1, 2, 3, 4, 5}\n",
      "<class 'set'>\n"
     ]
    }
   ],
   "source": [
    "## create a set \n",
    "my_Set={1,2,3,4,5}\n",
    "print(my_Set)\n",
    "print(type(my_Set))"
   ]
  },
  {
   "cell_type": "code",
   "execution_count": 5,
   "id": "f6bd4bbe",
   "metadata": {},
   "outputs": [
    {
     "name": "stdout",
     "output_type": "stream",
     "text": [
      "set()\n"
     ]
    }
   ],
   "source": [
    "my_empty_set=set()\n",
    "print(my_empty_set)"
   ]
  },
  {
   "cell_type": "code",
   "execution_count": 6,
   "id": "959700b1",
   "metadata": {},
   "outputs": [
    {
     "name": "stdout",
     "output_type": "stream",
     "text": [
      "{1, 2, 3, 4, 5, 7}\n"
     ]
    }
   ],
   "source": [
    "## basics sets operation \n",
    "##adding and remocing elements \n",
    "my_Set.add(7)\n",
    "print(my_Set)"
   ]
  },
  {
   "cell_type": "code",
   "execution_count": 7,
   "id": "e61f3e60",
   "metadata": {},
   "outputs": [
    {
     "name": "stdout",
     "output_type": "stream",
     "text": [
      "{1, 2, 4, 5, 7}\n"
     ]
    }
   ],
   "source": [
    "##remove the elements from the sets \n",
    "my_Set.remove(3)\n",
    "print(my_Set)"
   ]
  },
  {
   "cell_type": "code",
   "execution_count": 8,
   "id": "71593404",
   "metadata": {},
   "outputs": [
    {
     "name": "stdout",
     "output_type": "stream",
     "text": [
      "{1, 2, 4, 5, 7}\n"
     ]
    }
   ],
   "source": [
    "#to remove a element which is not present in the set \n",
    "my_Set.discard(10)\n",
    "print(my_Set)"
   ]
  },
  {
   "cell_type": "code",
   "execution_count": 9,
   "id": "bd1d4d24",
   "metadata": {},
   "outputs": [
    {
     "name": "stdout",
     "output_type": "stream",
     "text": [
      "1\n",
      "{2, 4, 5, 7}\n"
     ]
    }
   ],
   "source": [
    "##pop mthod \n",
    "removed_element=my_Set.pop()\n",
    "print(removed_element)\n",
    "print(my_Set)"
   ]
  },
  {
   "cell_type": "code",
   "execution_count": 10,
   "id": "305f3a41",
   "metadata": {},
   "outputs": [
    {
     "name": "stdout",
     "output_type": "stream",
     "text": [
      "set()\n"
     ]
    }
   ],
   "source": [
    "##clear all the elements\n",
    "my_Set.clear()\n",
    "print(my_Set)"
   ]
  },
  {
   "cell_type": "code",
   "execution_count": 11,
   "id": "3a478300",
   "metadata": {},
   "outputs": [
    {
     "name": "stdout",
     "output_type": "stream",
     "text": [
      "True\n",
      "False\n"
     ]
    }
   ],
   "source": [
    "##set memebership set \n",
    "my_set={1,2,3,4,5}\n",
    "print( 3 in my_set)\n",
    "print(10 in my_set)"
   ]
  },
  {
   "cell_type": "code",
   "execution_count": null,
   "id": "07a3516f",
   "metadata": {},
   "outputs": [
    {
     "name": "stdout",
     "output_type": "stream",
     "text": [
      "{1, 2, 3, 4, 5, 6, 7, 8, 9}\n",
      "{4, 5, 6}\n",
      "{4, 5, 6}\n",
      "set()\n"
     ]
    }
   ],
   "source": [
    "##mathematical operation \n",
    "set1={1,2,3,4,5,6}\n",
    "set2={4,5,6,7,8,9}\n",
    "##union\n",
    "union_set=set1.union(set2)\n",
    "print(union_set)\n",
    "\n",
    "##intersection \n",
    "intersection_set=set1.intersection(set2)\n",
    "print(intersection_set)\n",
    "\n",
    "set1.intersection_update(set2)\n",
    "print(set1)\n",
    "\n"
   ]
  },
  {
   "cell_type": "code",
   "execution_count": 20,
   "id": "93098ab0",
   "metadata": {},
   "outputs": [
    {
     "name": "stdout",
     "output_type": "stream",
     "text": [
      "{1, 2, 3}\n",
      "None\n"
     ]
    }
   ],
   "source": [
    "\n",
    "##difference \n",
    "set1={1,2,3,4,5,6,}\n",
    "set2={4,5,6,7,8,9}\n",
    "print(set1.difference(set2))\n",
    "print(set1.difference_update(set2))"
   ]
  },
  {
   "cell_type": "code",
   "execution_count": 22,
   "id": "5bed4f84",
   "metadata": {},
   "outputs": [
    {
     "data": {
      "text/plain": [
       "{1, 2, 3, 4, 5, 6, 7, 8, 9}"
      ]
     },
     "execution_count": 22,
     "metadata": {},
     "output_type": "execute_result"
    }
   ],
   "source": [
    "##symmetric difference \n",
    "set1.symmetric_difference(set2)"
   ]
  },
  {
   "cell_type": "code",
   "execution_count": 24,
   "id": "5f556910",
   "metadata": {},
   "outputs": [
    {
     "name": "stdout",
     "output_type": "stream",
     "text": [
      "False\n",
      "False\n"
     ]
    }
   ],
   "source": [
    "##sets method \n",
    "set1={1,2,3}\n",
    "set2={3,4,5}\n",
    "#is subset \n",
    "print(set1.issubset(set2))\n",
    "\n",
    "print(set1.issuperset(set2))"
   ]
  },
  {
   "cell_type": "code",
   "execution_count": 25,
   "id": "237c8685",
   "metadata": {},
   "outputs": [
    {
     "data": {
      "text/plain": [
       "{1, 2, 3, 4, 5}"
      ]
     },
     "execution_count": 25,
     "metadata": {},
     "output_type": "execute_result"
    }
   ],
   "source": [
    "lst=[1,2,2,3,4,4,5]\n",
    "set(lst)"
   ]
  },
  {
   "cell_type": "code",
   "execution_count": 26,
   "id": "974d2603",
   "metadata": {},
   "outputs": [
    {
     "name": "stdout",
     "output_type": "stream",
     "text": [
      "{'sets', 'tutorial', 'discussing', 'in', 'about', 'this', 'we', 'are'}\n",
      "8\n"
     ]
    }
   ],
   "source": [
    "### counting unique word in text \n",
    "\n",
    "text=\"in this tutorial we are discussing about sets \"\n",
    "words=text.split()\n",
    "##convert list of words to set to get unique words \n",
    "unique_words=set(words)\n",
    "print(unique_words)\n",
    "print(len(unique_words))"
   ]
  },
  {
   "cell_type": "code",
   "execution_count": null,
   "id": "e5d0b806",
   "metadata": {},
   "outputs": [],
   "source": []
  }
 ],
 "metadata": {
  "kernelspec": {
   "display_name": "venv",
   "language": "python",
   "name": "python3"
  },
  "language_info": {
   "codemirror_mode": {
    "name": "ipython",
    "version": 3
   },
   "file_extension": ".py",
   "mimetype": "text/x-python",
   "name": "python",
   "nbconvert_exporter": "python",
   "pygments_lexer": "ipython3",
   "version": "3.12.0"
  }
 },
 "nbformat": 4,
 "nbformat_minor": 5
}
